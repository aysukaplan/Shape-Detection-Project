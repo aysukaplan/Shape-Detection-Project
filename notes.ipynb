{
 "cells": [
  {
   "cell_type": "code",
   "execution_count": null,
   "metadata": {},
   "outputs": [],
   "source": [
    "# convert BGR to RGB to display using matplotlib kullanmak istersem\n",
    "# imgRGB = cv2.cvtColor(img, cv2.COLOR_BGR2RGB)"
   ]
  },
  {
   "cell_type": "code",
   "execution_count": null,
   "metadata": {},
   "outputs": [],
   "source": [
    "#cv2.findContour()\n",
    "#object to be found should be white and background should be black."
   ]
  },
  {
   "cell_type": "code",
   "execution_count": null,
   "metadata": {},
   "outputs": [],
   "source": [
    "#Line Detection için Hough Transform Technique\n",
    "#Hough Transform technique\n",
    "# Apply edge detection\n",
    "#edges = cv2.Canny(gray, 50, 150, apertureSize=3)\n",
    "# Apply Hough transform\n",
    "#lines = cv2.HoughLines(edges, rho=1, theta=np.pi/180, threshold=100)\n",
    "# Draw detected lines on the original image\n",
    "#for line in lines:"
   ]
  },
  {
   "cell_type": "code",
   "execution_count": null,
   "metadata": {},
   "outputs": [],
   "source": [
    "# Gradient ile köşe bulma\n",
    "\"\"\"Reading an image and convert it to GRAY-SCALE\n",
    "image.\n",
    " Adjusting GRAY-SCALE image contrast.\n",
    " Calculating the sum of the gradient in all directions for\n",
    "each pixel.\n",
    " Filtering the results by choosing the high values of the\n",
    "sum .\n",
    " building a binary image with high value as ones\n",
    "otherwise zeros.\n",
    " estimating the gradient in both direction .\n",
    " the pixel with two horizontal and vertical gradient\n",
    "declares as a corner .\"\"\""
   ]
  },
  {
   "cell_type": "code",
   "execution_count": null,
   "metadata": {},
   "outputs": [],
   "source": [
    "#object to be found should be white and background should be black. for findContours()\n",
    "'''cv.findContours() function, first one is source image, second is contour retrieval mode,\n",
    "third is contour approximation method. And it outputs the contours and hierarchy. \n",
    "Contours is a Python list of all the contours in the image. \n",
    "Each individual contour is a Numpy array of (x,y) coordinates of boundary points of the object.'''\n",
    "#cv.CHAIN_APPROX_NONE, all the boundary points are stored\n",
    "# cv.CHAIN_APPROX_SIMPLE just two end points of that line"
   ]
  },
  {
   "cell_type": "code",
   "execution_count": null,
   "metadata": {},
   "outputs": [],
   "source": [
    "\"\"\"\n",
    "kodları var\n",
    "Shi-Tomasi method - köşe için\n",
    "Canny edge - kenar için\n",
    "\"\"\""
   ]
  },
  {
   "cell_type": "code",
   "execution_count": null,
   "metadata": {},
   "outputs": [],
   "source": []
  },
  {
   "cell_type": "code",
   "execution_count": null,
   "metadata": {},
   "outputs": [],
   "source": []
  }
 ],
 "metadata": {
  "language_info": {
   "name": "python"
  },
  "orig_nbformat": 4
 },
 "nbformat": 4,
 "nbformat_minor": 2
}
